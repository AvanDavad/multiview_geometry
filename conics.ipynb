{
 "cells": [
  {
   "cell_type": "code",
   "execution_count": 1,
   "id": "b034e8c8-7ad7-4cde-9dce-8fd7146f9515",
   "metadata": {},
   "outputs": [],
   "source": [
    "import numpy as np\n",
    "import matplotlib.pyplot as plt\n",
    "\n",
    "from multiview_geometry import proj2D\n",
    "from multiview_geometry import utils\n",
    "\n",
    "np.set_printoptions(suppress=True, precision=4)"
   ]
  },
  {
   "cell_type": "code",
   "execution_count": 2,
   "id": "e5016223-eef5-48ad-9ff5-86a0cc89bd0f",
   "metadata": {},
   "outputs": [
    {
     "name": "stdout",
     "output_type": "stream",
     "text": [
      "[[ 1.   2.   2.1]\n",
      " [ 0.4 -0.8  0. ]\n",
      " [-1.   1.   1.8]]\n"
     ]
    }
   ],
   "source": [
    "A_np = np.array([[1., 2., 2.1], [0.4, -0.8, 0.], [-1., 1., 1.8]])\n",
    "print(A_np)"
   ]
  },
  {
   "cell_type": "code",
   "execution_count": 3,
   "id": "5bd2f7e3-21ad-471c-8cfa-91c0b68035e4",
   "metadata": {},
   "outputs": [
    {
     "name": "stdout",
     "output_type": "stream",
     "text": [
      "[[-0.0032 -0.2901 -0.0782]\n",
      " [-0.2901  0.5897  0.2531]\n",
      " [-0.0782  0.2531  0.1869]]\n"
     ]
    }
   ],
   "source": [
    "C_np = proj2D.get_C_from_A(A_np)\n",
    "print(C_np)"
   ]
  },
  {
   "cell_type": "code",
   "execution_count": 4,
   "id": "0405cbb3-95f1-42eb-90c2-1caff942d056",
   "metadata": {},
   "outputs": [],
   "source": [
    "def plot_A(A, xmin=-3, xmax=3, ymin=-3, ymax=3):\n",
    "    points = proj2D.get_points_for_conic_A(A, xmin, xmax, ymin, ymax, logmin=-5, logmax=5, n=1000)\n",
    "\n",
    "    for pts in points:\n",
    "        plt.plot(pts[:,0], pts[:,1], c=\"#1f77b4\")\n",
    "\n",
    "    A1_ih = A[:2,0] / A[2,0]\n",
    "    A2_ih = A[:2,1] / A[2,1]\n",
    "    A3_ih = A[:2,2] / A[2,2]\n",
    "\n",
    "    plt.scatter(A1_ih[0], A1_ih[1], c=\"r\")\n",
    "    plt.scatter(A2_ih[0], A2_ih[1], c=\"y\")\n",
    "    plt.scatter(A3_ih[0], A3_ih[1], c=\"b\")\n",
    "\n",
    "    plt.plot([A1_ih[0], A2_ih[0]], [A1_ih[1], A2_ih[1]], c=\"k\", linewidth=0.3)\n",
    "    plt.plot([A3_ih[0], A2_ih[0]], [A3_ih[1], A2_ih[1]], c=\"k\", linewidth=0.3)\n",
    "    plt.xlim(xmin, xmax)\n",
    "    plt.ylim(ymin, ymax)"
   ]
  },
  {
   "cell_type": "code",
   "execution_count": 5,
   "id": "0a96b497-d2ac-406b-a7b7-f1237147bfdb",
   "metadata": {},
   "outputs": [
    {
     "data": {
      "image/png": "[encoded data removed]",
      "text/plain": [
       "<Figure size 640x480 with 1 Axes>"
      ]
     },
     "metadata": {},
     "output_type": "display_data"
    }
   ],
   "source": [
    "plot_A(A_np)"
   ]
  },
  {
   "cell_type": "code",
   "execution_count": 6,
   "id": "fee2075b-ce0f-4137-a1e4-054bc234c643",
   "metadata": {},
   "outputs": [
    {
     "ename": "AssertionError",
     "evalue": "no real roots (0.43094599423277896, 1.3902480610321968, 1.1602627969760122)",
     "output_type": "error",
     "traceback": [
      "\u001b[0;31m---------------------------------------------------------------------------\u001b[0m",
      "\u001b[0;31mAssertionError\u001b[0m                            Traceback (most recent call last)",
      "Cell \u001b[0;32mIn[6], line 14\u001b[0m\n\u001b[1;32m     11\u001b[0m ymin, ymax\u001b[38;5;241m=\u001b[39m \u001b[38;5;241m-\u001b[39m\u001b[38;5;241m3\u001b[39m, \u001b[38;5;241m3\u001b[39m\n\u001b[1;32m     12\u001b[0m plt\u001b[38;5;241m.\u001b[39mfigure(figsize\u001b[38;5;241m=\u001b[39m(\u001b[38;5;241m6\u001b[39m, \u001b[38;5;241m6\u001b[39m))\n\u001b[0;32m---> 14\u001b[0m points \u001b[38;5;241m=\u001b[39m \u001b[43mproj2D\u001b[49m\u001b[38;5;241;43m.\u001b[39;49m\u001b[43mget_conic_points\u001b[49m\u001b[43m(\u001b[49m\u001b[43mC\u001b[49m\u001b[43m,\u001b[49m\u001b[43m \u001b[49m\u001b[43mxmin\u001b[49m\u001b[43m,\u001b[49m\u001b[43m \u001b[49m\u001b[43mxmax\u001b[49m\u001b[43m,\u001b[49m\u001b[43m \u001b[49m\u001b[43mymin\u001b[49m\u001b[43m,\u001b[49m\u001b[43m \u001b[49m\u001b[43mymax\u001b[49m\u001b[43m,\u001b[49m\u001b[43m \u001b[49m\u001b[43mlogmin\u001b[49m\u001b[38;5;241;43m=\u001b[39;49m\u001b[38;5;241;43m-\u001b[39;49m\u001b[38;5;241;43m5\u001b[39;49m\u001b[43m,\u001b[49m\u001b[43m \u001b[49m\u001b[43mlogmax\u001b[49m\u001b[38;5;241;43m=\u001b[39;49m\u001b[38;5;241;43m5\u001b[39;49m\u001b[43m,\u001b[49m\u001b[43m \u001b[49m\u001b[43mn\u001b[49m\u001b[38;5;241;43m=\u001b[39;49m\u001b[38;5;241;43m1000\u001b[39;49m\u001b[43m)\u001b[49m\n\u001b[1;32m     16\u001b[0m \u001b[38;5;28;01mfor\u001b[39;00m pts \u001b[38;5;129;01min\u001b[39;00m points:\n\u001b[1;32m     17\u001b[0m     plt\u001b[38;5;241m.\u001b[39mplot(pts[:,\u001b[38;5;241m0\u001b[39m], pts[:,\u001b[38;5;241m1\u001b[39m], c\u001b[38;5;241m=\u001b[39m\u001b[38;5;124m\"\u001b[39m\u001b[38;5;124m#1f77b4\u001b[39m\u001b[38;5;124m\"\u001b[39m)\n",
      "File \u001b[0;32m~/projects/multiview_geometry/multiview_geometry/proj2D.py:134\u001b[0m, in \u001b[0;36mget_conic_points\u001b[0;34m(C, xmin, xmax, ymin, ymax, logmin, logmax, n, M)\u001b[0m\n\u001b[1;32m    131\u001b[0m \u001b[38;5;28;01massert\u001b[39;00m M\u001b[38;5;241m.\u001b[39mdot(C\u001b[38;5;241m.\u001b[39mdot(M)) \u001b[38;5;241m!=\u001b[39m \u001b[38;5;241m0.0\u001b[39m, \u001b[38;5;124m\"\u001b[39m\u001b[38;5;124mM is on the conic\u001b[39m\u001b[38;5;124m\"\u001b[39m\n\u001b[1;32m    133\u001b[0m CM_line \u001b[38;5;241m=\u001b[39m C\u001b[38;5;241m.\u001b[39mdot(M)\n\u001b[0;32m--> 134\u001b[0m L, R \u001b[38;5;241m=\u001b[39m \u001b[43mline_conic_intersection\u001b[49m\u001b[43m(\u001b[49m\u001b[43mCM_line\u001b[49m\u001b[43m,\u001b[49m\u001b[43m \u001b[49m\u001b[43mC\u001b[49m\u001b[43m)\u001b[49m\n\u001b[1;32m    135\u001b[0m A \u001b[38;5;241m=\u001b[39m np\u001b[38;5;241m.\u001b[39mcolumn_stack(\n\u001b[1;32m    136\u001b[0m     [\n\u001b[1;32m    137\u001b[0m         \u001b[38;5;241m-\u001b[39m\u001b[38;5;241m0.5\u001b[39m \u001b[38;5;241m*\u001b[39m (M\u001b[38;5;241m.\u001b[39mdot(C\u001b[38;5;241m.\u001b[39mdot(M))) \u001b[38;5;241m/\u001b[39m (L\u001b[38;5;241m.\u001b[39mdot(C)\u001b[38;5;241m.\u001b[39mdot(R)) \u001b[38;5;241m*\u001b[39m L,\n\u001b[0;32m   (...)\u001b[0m\n\u001b[1;32m    140\u001b[0m     ]\n\u001b[1;32m    141\u001b[0m )\n\u001b[1;32m    143\u001b[0m points \u001b[38;5;241m=\u001b[39m get_points_for_conic_A(A, xmin, xmax, ymin, ymax, logmin, logmax, n)\n",
      "File \u001b[0;32m~/projects/multiview_geometry/multiview_geometry/proj2D.py:44\u001b[0m, in \u001b[0;36mline_conic_intersection\u001b[0;34m(line, C)\u001b[0m\n\u001b[1;32m     42\u001b[0m M \u001b[38;5;241m=\u001b[39m A_line\u001b[38;5;241m.\u001b[39mT \u001b[38;5;241m@\u001b[39m C \u001b[38;5;241m@\u001b[39m A_line\n\u001b[1;32m     43\u001b[0m a, b, c \u001b[38;5;241m=\u001b[39m M[\u001b[38;5;241m1\u001b[39m,\u001b[38;5;241m1\u001b[39m], \u001b[38;5;241m2\u001b[39m\u001b[38;5;241m*\u001b[39mM[\u001b[38;5;241m0\u001b[39m,\u001b[38;5;241m1\u001b[39m], M[\u001b[38;5;241m0\u001b[39m,\u001b[38;5;241m0\u001b[39m]\n\u001b[0;32m---> 44\u001b[0m t1, t2 \u001b[38;5;241m=\u001b[39m \u001b[43msolve_quadratic\u001b[49m\u001b[43m(\u001b[49m\u001b[43ma\u001b[49m\u001b[43m,\u001b[49m\u001b[43m \u001b[49m\u001b[43mb\u001b[49m\u001b[43m,\u001b[49m\u001b[43m \u001b[49m\u001b[43mc\u001b[49m\u001b[43m)\u001b[49m\n\u001b[1;32m     45\u001b[0m vt1 \u001b[38;5;241m=\u001b[39m np\u001b[38;5;241m.\u001b[39marray([\u001b[38;5;241m1.0\u001b[39m, t1])\n\u001b[1;32m     46\u001b[0m vt2 \u001b[38;5;241m=\u001b[39m np\u001b[38;5;241m.\u001b[39marray([\u001b[38;5;241m1.0\u001b[39m, t2])\n",
      "File \u001b[0;32m~/projects/multiview_geometry/multiview_geometry/proj2D.py:65\u001b[0m, in \u001b[0;36msolve_quadratic\u001b[0;34m(a, b, c)\u001b[0m\n\u001b[1;32m     63\u001b[0m     \u001b[38;5;28;01mreturn\u001b[39;00m (x, x)\n\u001b[1;32m     64\u001b[0m D \u001b[38;5;241m=\u001b[39m b\u001b[38;5;241m*\u001b[39mb \u001b[38;5;241m-\u001b[39m \u001b[38;5;241m4\u001b[39m\u001b[38;5;241m*\u001b[39ma\u001b[38;5;241m*\u001b[39mc\n\u001b[0;32m---> 65\u001b[0m \u001b[38;5;28;01massert\u001b[39;00m D \u001b[38;5;241m>\u001b[39m\u001b[38;5;241m=\u001b[39m \u001b[38;5;241m0\u001b[39m, \u001b[38;5;124mf\u001b[39m\u001b[38;5;124m\"\u001b[39m\u001b[38;5;124mno real roots (\u001b[39m\u001b[38;5;132;01m{\u001b[39;00ma\u001b[38;5;132;01m}\u001b[39;00m\u001b[38;5;124m, \u001b[39m\u001b[38;5;132;01m{\u001b[39;00mb\u001b[38;5;132;01m}\u001b[39;00m\u001b[38;5;124m, \u001b[39m\u001b[38;5;132;01m{\u001b[39;00mc\u001b[38;5;132;01m}\u001b[39;00m\u001b[38;5;124m)\u001b[39m\u001b[38;5;124m\"\u001b[39m\n\u001b[1;32m     66\u001b[0m sD \u001b[38;5;241m=\u001b[39m np\u001b[38;5;241m.\u001b[39msqrt(D)\n\u001b[1;32m     67\u001b[0m x1 \u001b[38;5;241m=\u001b[39m (\u001b[38;5;241m-\u001b[39mb \u001b[38;5;241m+\u001b[39m sD) \u001b[38;5;241m/\u001b[39m (\u001b[38;5;241m2\u001b[39m\u001b[38;5;241m*\u001b[39ma)\n",
      "\u001b[0;31mAssertionError\u001b[0m: no real roots (0.43094599423277896, 1.3902480610321968, 1.1602627969760122)"
     ]
    },
    {
     "data": {
      "text/plain": [
       "<Figure size 600x600 with 0 Axes>"
      ]
     },
     "metadata": {},
     "output_type": "display_data"
    }
   ],
   "source": [
    "C = np.array(\n",
    "    [\n",
    "        [0.5, 0.8, 0.3],\n",
    "        [0.8, 1., -0.1],\n",
    "        [0.3, -0.1, -0.9],\n",
    "    ]\n",
    ")\n",
    "\n",
    "\n",
    "xmin, xmax= -3, 3\n",
    "ymin, ymax= -3, 3\n",
    "plt.figure(figsize=(6, 6))\n",
    "\n",
    "points = proj2D.get_conic_points(C, xmin, xmax, ymin, ymax, logmin=-5, logmax=5, n=1000)\n",
    "\n",
    "for pts in points:\n",
    "    plt.plot(pts[:,0], pts[:,1], c=\"#1f77b4\")\n",
    "\n",
    "plt.xlim(xmin, xmax)\n",
    "plt.ylim(ymin, ymax)"
   ]
  },
  {
   "cell_type": "code",
   "execution_count": null,
   "id": "37d0ec9f-fa44-47e1-978d-61b888d2ffab",
   "metadata": {},
   "outputs": [],
   "source": []
  },
  {
   "cell_type": "code",
   "execution_count": 7,
   "id": "ceb5f408-527a-468e-bb8a-b60526c4e0d5",
   "metadata": {},
   "outputs": [],
   "source": [
    "def get_C(x0, y0, r):\n",
    "    C = np.array([[1., 0., -x0], [0, 1, -y0], [-x0, -y0, x0**2 + y0**2 + r**2]])\n",
    "    return C"
   ]
  },
  {
   "cell_type": "code",
   "execution_count": 8,
   "id": "01397166-6751-4ba7-b869-cafaadace888",
   "metadata": {},
   "outputs": [],
   "source": [
    "C = get_C(1., 0.5, 2.)"
   ]
  },
  {
   "cell_type": "code",
   "execution_count": 9,
   "id": "85ec9cd5-f525-4c6b-8227-87990fb498cf",
   "metadata": {},
   "outputs": [
    {
     "data": {
      "text/plain": [
       "array([[ 1.  ,  0.  , -1.  ],\n",
       "       [ 0.  ,  1.  , -0.5 ],\n",
       "       [-1.  , -0.5 ,  5.25]])"
      ]
     },
     "execution_count": 9,
     "metadata": {},
     "output_type": "execute_result"
    }
   ],
   "source": [
    "C"
   ]
  },
  {
   "cell_type": "code",
   "execution_count": 12,
   "id": "5d1ef253-9369-466a-b700-85ce2de8c5cd",
   "metadata": {},
   "outputs": [
    {
     "ename": "AssertionError",
     "evalue": "no real roots (2.4033126138025604, 2.641872168807674, 1.9113511949668356)",
     "output_type": "error",
     "traceback": [
      "\u001b[0;31m---------------------------------------------------------------------------\u001b[0m",
      "\u001b[0;31mAssertionError\u001b[0m                            Traceback (most recent call last)",
      "Cell \u001b[0;32mIn[12], line 1\u001b[0m\n\u001b[0;32m----> 1\u001b[0m pts \u001b[38;5;241m=\u001b[39m \u001b[43mproj2D\u001b[49m\u001b[38;5;241;43m.\u001b[39;49m\u001b[43mget_conic_points\u001b[49m\u001b[43m(\u001b[49m\u001b[43mC\u001b[49m\u001b[43m,\u001b[49m\u001b[43m \u001b[49m\u001b[43mM\u001b[49m\u001b[38;5;241;43m=\u001b[39;49m\u001b[43m[\u001b[49m\u001b[38;5;241;43m10\u001b[39;49m\u001b[43m,\u001b[49m\u001b[38;5;241;43m30.\u001b[39;49m\u001b[43m]\u001b[49m\u001b[43m)\u001b[49m\n",
      "File \u001b[0;32m~/projects/multiview_geometry/multiview_geometry/proj2D.py:134\u001b[0m, in \u001b[0;36mget_conic_points\u001b[0;34m(C, xmin, xmax, ymin, ymax, logmin, logmax, n, M)\u001b[0m\n\u001b[1;32m    131\u001b[0m \u001b[38;5;28;01massert\u001b[39;00m M\u001b[38;5;241m.\u001b[39mdot(C\u001b[38;5;241m.\u001b[39mdot(M)) \u001b[38;5;241m!=\u001b[39m \u001b[38;5;241m0.0\u001b[39m, \u001b[38;5;124m\"\u001b[39m\u001b[38;5;124mM is on the conic\u001b[39m\u001b[38;5;124m\"\u001b[39m\n\u001b[1;32m    133\u001b[0m CM_line \u001b[38;5;241m=\u001b[39m C\u001b[38;5;241m.\u001b[39mdot(M)\n\u001b[0;32m--> 134\u001b[0m L, R \u001b[38;5;241m=\u001b[39m \u001b[43mline_conic_intersection\u001b[49m\u001b[43m(\u001b[49m\u001b[43mCM_line\u001b[49m\u001b[43m,\u001b[49m\u001b[43m \u001b[49m\u001b[43mC\u001b[49m\u001b[43m)\u001b[49m\n\u001b[1;32m    135\u001b[0m A \u001b[38;5;241m=\u001b[39m np\u001b[38;5;241m.\u001b[39mcolumn_stack(\n\u001b[1;32m    136\u001b[0m     [\n\u001b[1;32m    137\u001b[0m         \u001b[38;5;241m-\u001b[39m\u001b[38;5;241m0.5\u001b[39m \u001b[38;5;241m*\u001b[39m (M\u001b[38;5;241m.\u001b[39mdot(C\u001b[38;5;241m.\u001b[39mdot(M))) \u001b[38;5;241m/\u001b[39m (L\u001b[38;5;241m.\u001b[39mdot(C)\u001b[38;5;241m.\u001b[39mdot(R)) \u001b[38;5;241m*\u001b[39m L,\n\u001b[0;32m   (...)\u001b[0m\n\u001b[1;32m    140\u001b[0m     ]\n\u001b[1;32m    141\u001b[0m )\n\u001b[1;32m    143\u001b[0m points \u001b[38;5;241m=\u001b[39m get_points_for_conic_A(A, xmin, xmax, ymin, ymax, logmin, logmax, n)\n",
      "File \u001b[0;32m~/projects/multiview_geometry/multiview_geometry/proj2D.py:44\u001b[0m, in \u001b[0;36mline_conic_intersection\u001b[0;34m(line, C)\u001b[0m\n\u001b[1;32m     42\u001b[0m M \u001b[38;5;241m=\u001b[39m A_line\u001b[38;5;241m.\u001b[39mT \u001b[38;5;241m@\u001b[39m C \u001b[38;5;241m@\u001b[39m A_line\n\u001b[1;32m     43\u001b[0m a, b, c \u001b[38;5;241m=\u001b[39m M[\u001b[38;5;241m1\u001b[39m,\u001b[38;5;241m1\u001b[39m], \u001b[38;5;241m2\u001b[39m\u001b[38;5;241m*\u001b[39mM[\u001b[38;5;241m0\u001b[39m,\u001b[38;5;241m1\u001b[39m], M[\u001b[38;5;241m0\u001b[39m,\u001b[38;5;241m0\u001b[39m]\n\u001b[0;32m---> 44\u001b[0m t1, t2 \u001b[38;5;241m=\u001b[39m \u001b[43msolve_quadratic\u001b[49m\u001b[43m(\u001b[49m\u001b[43ma\u001b[49m\u001b[43m,\u001b[49m\u001b[43m \u001b[49m\u001b[43mb\u001b[49m\u001b[43m,\u001b[49m\u001b[43m \u001b[49m\u001b[43mc\u001b[49m\u001b[43m)\u001b[49m\n\u001b[1;32m     45\u001b[0m vt1 \u001b[38;5;241m=\u001b[39m np\u001b[38;5;241m.\u001b[39marray([\u001b[38;5;241m1.0\u001b[39m, t1])\n\u001b[1;32m     46\u001b[0m vt2 \u001b[38;5;241m=\u001b[39m np\u001b[38;5;241m.\u001b[39marray([\u001b[38;5;241m1.0\u001b[39m, t2])\n",
      "File \u001b[0;32m~/projects/multiview_geometry/multiview_geometry/proj2D.py:65\u001b[0m, in \u001b[0;36msolve_quadratic\u001b[0;34m(a, b, c)\u001b[0m\n\u001b[1;32m     63\u001b[0m     \u001b[38;5;28;01mreturn\u001b[39;00m (x, x)\n\u001b[1;32m     64\u001b[0m D \u001b[38;5;241m=\u001b[39m b\u001b[38;5;241m*\u001b[39mb \u001b[38;5;241m-\u001b[39m \u001b[38;5;241m4\u001b[39m\u001b[38;5;241m*\u001b[39ma\u001b[38;5;241m*\u001b[39mc\n\u001b[0;32m---> 65\u001b[0m \u001b[38;5;28;01massert\u001b[39;00m D \u001b[38;5;241m>\u001b[39m\u001b[38;5;241m=\u001b[39m \u001b[38;5;241m0\u001b[39m, \u001b[38;5;124mf\u001b[39m\u001b[38;5;124m\"\u001b[39m\u001b[38;5;124mno real roots (\u001b[39m\u001b[38;5;132;01m{\u001b[39;00ma\u001b[38;5;132;01m}\u001b[39;00m\u001b[38;5;124m, \u001b[39m\u001b[38;5;132;01m{\u001b[39;00mb\u001b[38;5;132;01m}\u001b[39;00m\u001b[38;5;124m, \u001b[39m\u001b[38;5;132;01m{\u001b[39;00mc\u001b[38;5;132;01m}\u001b[39;00m\u001b[38;5;124m)\u001b[39m\u001b[38;5;124m\"\u001b[39m\n\u001b[1;32m     66\u001b[0m sD \u001b[38;5;241m=\u001b[39m np\u001b[38;5;241m.\u001b[39msqrt(D)\n\u001b[1;32m     67\u001b[0m x1 \u001b[38;5;241m=\u001b[39m (\u001b[38;5;241m-\u001b[39mb \u001b[38;5;241m+\u001b[39m sD) \u001b[38;5;241m/\u001b[39m (\u001b[38;5;241m2\u001b[39m\u001b[38;5;241m*\u001b[39ma)\n",
      "\u001b[0;31mAssertionError\u001b[0m: no real roots (2.4033126138025604, 2.641872168807674, 1.9113511949668356)"
     ]
    }
   ],
   "source": [
    "pts = proj2D.get_conic_points(C, M=[10,30.])"
   ]
  },
  {
   "cell_type": "code",
   "execution_count": null,
   "id": "3acd057d-495b-4dab-b849-cc1ffe07696f",
   "metadata": {},
   "outputs": [],
   "source": [
    "pts"
   ]
  },
  {
   "cell_type": "code",
   "execution_count": null,
   "id": "2b750037-3f06-494f-886b-4abaaf0d440f",
   "metadata": {},
   "outputs": [],
   "source": []
  },
  {
   "cell_type": "code",
   "execution_count": null,
   "id": "52417fe5-37d3-4402-86a1-1c618b702600",
   "metadata": {},
   "outputs": [],
   "source": []
  }
 ],
 "metadata": {
  "kernelspec": {
   "display_name": "Python 3 (ipykernel)",
   "language": "python",
   "name": "python3"
  },
  "language_info": {
   "codemirror_mode": {
    "name": "ipython",
    "version": 3
   },
   "file_extension": ".py",
   "mimetype": "text/x-python",
   "name": "python",
   "nbconvert_exporter": "python",
   "pygments_lexer": "ipython3",
   "version": "3.10.0"
  }
 },
 "nbformat": 4,
 "nbformat_minor": 5
}
