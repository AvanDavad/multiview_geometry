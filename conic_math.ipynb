{
 "cells": [
  {
   "cell_type": "markdown",
   "id": "4f03a7d4-020b-4534-9744-5332134a3b6a",
   "metadata": {},
   "source": [
    "### parametrization of a conic"
   ]
  },
  {
   "cell_type": "markdown",
   "id": "c12286bc-68dc-455f-923c-20a36a9f74ec",
   "metadata": {},
   "source": [
    "A conic:\n",
    "\n",
    "$$C = \\begin{bmatrix} a & b/2 & d/2 \\\\ b/2 & c & e/2 \\\\ d/2 & e/2 & f \\end{bmatrix}$$\n",
    "\n",
    "A point $x$ is on the conic if and only if:\n",
    "\n",
    "$$x^T C x = 0$$\n",
    "\n",
    "This can be parametrized as\n",
    "\n",
    "$$x = A v_t = \\begin{bmatrix} a11 & a12 & a13 \\\\ a21 & a22 & a23 \\\\ a31 & a32 & a33 \\end{bmatrix} \\begin{bmatrix} 1 \\\\ t \\\\ t^2 \\end{bmatrix}$$\n",
    "\n",
    "The point $x$ is on the conic:\n",
    "\n",
    "$$v_t^T A^T C A v_t = 0$$\n",
    "\n",
    "This expression must hold for all $t$. It is a polynomial in $t$. All coefficients of $t$ has to be zero, so we have 5 equations for the coefficients ($1$, $t$, $\\dots$, $t^4$). The expression is linear in $C$, so we can write:\n",
    "\n",
    "$$C_d \\begin{bmatrix} a \\\\ b \\\\ c \\\\ d \\\\ e \\\\ f \\end{bmatrix} = 0$$\n",
    "\n",
    "$C_d$ is a 5x6 matrix, the nullspace gives the solution for the conic. This notebook calculates $C_d$ analytically."
   ]
  },
  {
   "cell_type": "code",
   "execution_count": 1,
   "id": "dc16ded5-4ef2-4aa4-8c71-5227a512e7e8",
   "metadata": {},
   "outputs": [],
   "source": [
    "import sympy"
   ]
  },
  {
   "cell_type": "code",
   "execution_count": 2,
   "id": "fb0010d8-5607-43e8-afb5-e7fcfe3c853b",
   "metadata": {},
   "outputs": [],
   "source": [
    "def get_sympy_matrix(nrows, ncols, prefix=\"a\"):\n",
    "    matrix_list = []\n",
    "    for i in range(nrows):\n",
    "        row = []\n",
    "        for j in range(ncols):\n",
    "            row.append(sympy.symbols(f\"{prefix}{i+1}{j+1}\"))\n",
    "        matrix_list.append(row)\n",
    "    matrix = sympy.Matrix(matrix_list)\n",
    "    return matrix"
   ]
  },
  {
   "cell_type": "code",
   "execution_count": 3,
   "id": "d30fd377-38eb-4ca6-8072-cbc7dbf8f8d0",
   "metadata": {},
   "outputs": [],
   "source": [
    "A = get_sympy_matrix(3, 3, \"a\")"
   ]
  },
  {
   "cell_type": "code",
   "execution_count": 4,
   "id": "86636004-b87f-4a3d-8cf4-51dc712a4108",
   "metadata": {},
   "outputs": [
    {
     "data": {
      "text/latex": [
       "$\\displaystyle \\left[\\begin{matrix}a_{11} & a_{12} & a_{13}\\\\a_{21} & a_{22} & a_{23}\\\\a_{31} & a_{32} & a_{33}\\end{matrix}\\right]$"
      ],
      "text/plain": [
       "Matrix([\n",
       "[a11, a12, a13],\n",
       "[a21, a22, a23],\n",
       "[a31, a32, a33]])"
      ]
     },
     "execution_count": 4,
     "metadata": {},
     "output_type": "execute_result"
    }
   ],
   "source": [
    "A"
   ]
  },
  {
   "cell_type": "code",
   "execution_count": 5,
   "id": "e0e1b940-048e-47b2-b32b-c8bfd0485561",
   "metadata": {},
   "outputs": [],
   "source": [
    "a, b, c, d, e, f = sympy.symbols(\"a b c d e f\")"
   ]
  },
  {
   "cell_type": "code",
   "execution_count": 6,
   "id": "08bf3914-301d-4064-9f9b-ea55d20f5c42",
   "metadata": {},
   "outputs": [],
   "source": [
    "C = sympy.Matrix(\n",
    "    [\n",
    "        [a, b/2, d/2],\n",
    "        [b/2, c, e/2],\n",
    "        [d/2, e/2, f]\n",
    "    ]\n",
    ")"
   ]
  },
  {
   "cell_type": "code",
   "execution_count": 7,
   "id": "641ac189-ff8d-467f-9d96-9671bd7363d8",
   "metadata": {},
   "outputs": [
    {
     "data": {
      "text/latex": [
       "$\\displaystyle \\left[\\begin{matrix}a & \\frac{b}{2} & \\frac{d}{2}\\\\\\frac{b}{2} & c & \\frac{e}{2}\\\\\\frac{d}{2} & \\frac{e}{2} & f\\end{matrix}\\right]$"
      ],
      "text/plain": [
       "Matrix([\n",
       "[  a, b/2, d/2],\n",
       "[b/2,   c, e/2],\n",
       "[d/2, e/2,   f]])"
      ]
     },
     "execution_count": 7,
     "metadata": {},
     "output_type": "execute_result"
    }
   ],
   "source": [
    "C"
   ]
  },
  {
   "cell_type": "code",
   "execution_count": 8,
   "id": "d415988f-657a-4000-85e0-31fd5f2bb2ee",
   "metadata": {},
   "outputs": [],
   "source": [
    "t = sympy.symbols(\"t\")\n",
    "vec_t = sympy.Matrix([[1], [t], [t*t]])"
   ]
  },
  {
   "cell_type": "code",
   "execution_count": 9,
   "id": "14740e07-fc5e-4119-93cb-fc0e24dcee8d",
   "metadata": {},
   "outputs": [
    {
     "data": {
      "text/latex": [
       "$\\displaystyle \\left[\\begin{matrix}1\\\\t\\\\t^{2}\\end{matrix}\\right]$"
      ],
      "text/plain": [
       "Matrix([\n",
       "[   1],\n",
       "[   t],\n",
       "[t**2]])"
      ]
     },
     "execution_count": 9,
     "metadata": {},
     "output_type": "execute_result"
    }
   ],
   "source": [
    "vec_t"
   ]
  },
  {
   "cell_type": "code",
   "execution_count": 10,
   "id": "613507a1-819f-42fd-b1c2-11c445d3f7b6",
   "metadata": {},
   "outputs": [],
   "source": [
    "expr = vec_t.T @ A.T @ C @ A @ vec_t"
   ]
  },
  {
   "cell_type": "code",
   "execution_count": 11,
   "id": "96587f44-d5a5-462a-9e9f-2f40de6c7cf8",
   "metadata": {},
   "outputs": [],
   "source": [
    "expr_expand = sympy.expand(expr[0,0])"
   ]
  },
  {
   "cell_type": "code",
   "execution_count": 12,
   "id": "15c607da-22d1-4b36-8cb1-2d5286b2fc30",
   "metadata": {},
   "outputs": [],
   "source": [
    "collected_t = sympy.collect(expr_expand, t)"
   ]
  },
  {
   "cell_type": "code",
   "execution_count": 13,
   "id": "99008481-e3c7-4072-a73c-fe9c290f7a9b",
   "metadata": {},
   "outputs": [
    {
     "data": {
      "text/latex": [
       "$\\displaystyle a a_{11}^{2} + a_{11} a_{21} b + a_{11} a_{31} d + a_{21}^{2} c + a_{21} a_{31} e + a_{31}^{2} f$"
      ],
      "text/plain": [
       "a*a11**2 + a11*a21*b + a11*a31*d + a21**2*c + a21*a31*e + a31**2*f"
      ]
     },
     "execution_count": 13,
     "metadata": {},
     "output_type": "execute_result"
    }
   ],
   "source": [
    "collected_t.coeff(t, 0)"
   ]
  },
  {
   "cell_type": "code",
   "execution_count": 14,
   "id": "527ad836-d184-4110-bc1c-bfa72b631d84",
   "metadata": {},
   "outputs": [
    {
     "data": {
      "text/latex": [
       "$\\displaystyle a_{11} a_{21}$"
      ],
      "text/plain": [
       "a11*a21"
      ]
     },
     "execution_count": 14,
     "metadata": {},
     "output_type": "execute_result"
    }
   ],
   "source": [
    "collected_t.coeff(t, 0).coeff(b, 1)"
   ]
  },
  {
   "cell_type": "code",
   "execution_count": 15,
   "id": "e1a5b76a-2ff6-4701-ac52-c12517513f39",
   "metadata": {},
   "outputs": [],
   "source": [
    "C_d = []\n",
    "for t_coeff in range(5):\n",
    "    row = []\n",
    "    for c_elem in [a, b, c, d, e, f]:\n",
    "        row.append(collected_t.coeff(t, t_coeff).coeff(c_elem, 1))\n",
    "    C_d.append(row)\n",
    "C_d = sympy.Matrix(C_d)"
   ]
  },
  {
   "cell_type": "code",
   "execution_count": 16,
   "id": "0d2ef9ce-5802-44a8-af64-86b7327ddb1f",
   "metadata": {},
   "outputs": [
    {
     "data": {
      "text/latex": [
       "$\\displaystyle \\left[\\begin{matrix}a_{11}^{2} & a_{11} a_{21} & a_{21}^{2} & a_{11} a_{31} & a_{21} a_{31} & a_{31}^{2}\\\\2 a_{11} a_{12} & a_{11} a_{22} + a_{12} a_{21} & 2 a_{21} a_{22} & a_{11} a_{32} + a_{12} a_{31} & a_{21} a_{32} + a_{22} a_{31} & 2 a_{31} a_{32}\\\\2 a_{11} a_{13} + a_{12}^{2} & a_{11} a_{23} + a_{12} a_{22} + a_{13} a_{21} & 2 a_{21} a_{23} + a_{22}^{2} & a_{11} a_{33} + a_{12} a_{32} + a_{13} a_{31} & a_{21} a_{33} + a_{22} a_{32} + a_{23} a_{31} & 2 a_{31} a_{33} + a_{32}^{2}\\\\2 a_{12} a_{13} & a_{12} a_{23} + a_{13} a_{22} & 2 a_{22} a_{23} & a_{12} a_{33} + a_{13} a_{32} & a_{22} a_{33} + a_{23} a_{32} & 2 a_{32} a_{33}\\\\a_{13}^{2} & a_{13} a_{23} & a_{23}^{2} & a_{13} a_{33} & a_{23} a_{33} & a_{33}^{2}\\end{matrix}\\right]$"
      ],
      "text/plain": [
       "Matrix([\n",
       "[            a11**2,                     a11*a21,             a21**2,                     a11*a31,                     a21*a31,             a31**2],\n",
       "[         2*a11*a12,           a11*a22 + a12*a21,          2*a21*a22,           a11*a32 + a12*a31,           a21*a32 + a22*a31,          2*a31*a32],\n",
       "[2*a11*a13 + a12**2, a11*a23 + a12*a22 + a13*a21, 2*a21*a23 + a22**2, a11*a33 + a12*a32 + a13*a31, a21*a33 + a22*a32 + a23*a31, 2*a31*a33 + a32**2],\n",
       "[         2*a12*a13,           a12*a23 + a13*a22,          2*a22*a23,           a12*a33 + a13*a32,           a22*a33 + a23*a32,          2*a32*a33],\n",
       "[            a13**2,                     a13*a23,             a23**2,                     a13*a33,                     a23*a33,             a33**2]])"
      ]
     },
     "execution_count": 16,
     "metadata": {},
     "output_type": "execute_result"
    }
   ],
   "source": [
    "C_d"
   ]
  }
 ],
 "metadata": {
  "kernelspec": {
   "display_name": "Python 3 (ipykernel)",
   "language": "python",
   "name": "python3"
  },
  "language_info": {
   "codemirror_mode": {
    "name": "ipython",
    "version": 3
   },
   "file_extension": ".py",
   "mimetype": "text/x-python",
   "name": "python",
   "nbconvert_exporter": "python",
   "pygments_lexer": "ipython3",
   "version": "3.10.0"
  }
 },
 "nbformat": 4,
 "nbformat_minor": 5
}
